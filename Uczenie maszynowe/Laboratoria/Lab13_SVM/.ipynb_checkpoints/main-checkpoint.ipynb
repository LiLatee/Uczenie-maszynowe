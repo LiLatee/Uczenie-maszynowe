{
 "cells": [
  {
   "cell_type": "code",
   "execution_count": 154,
   "metadata": {},
   "outputs": [],
   "source": [
    "import numpy as np\n",
    "import pandas as pd\n",
    "import collections\n",
    "from sklearn.metrics import confusion_matrix, classification_report\n",
    "from sklearn.decomposition import PCA\n",
    "import matplotlib.pyplot as plt\n",
    "import mpl_toolkits.mplot3d as plt3d"
   ]
  },
  {
   "cell_type": "code",
   "execution_count": 101,
   "metadata": {},
   "outputs": [],
   "source": [
    "data = pd.read_csv(\"./131767-svm.txt\", sep='\\t')\n",
    "data[:3]\n",
    "X = data.iloc[:, :-1]\n",
    "y = data.iloc[:, -1]"
   ]
  },
  {
   "cell_type": "code",
   "execution_count": 102,
   "metadata": {},
   "outputs": [
    {
     "name": "stdout",
     "output_type": "stream",
     "text": [
      "0:  0.7402\n",
      "1:  0.25980000000000003\n"
     ]
    }
   ],
   "source": [
    "classes_count = collections.Counter(y)\n",
    "class_0_prc = classes_count[0]/(classes_count[1]+classes_count[0])\n",
    "class_1_prc = 1 - class_0_prc\n",
    "print(\"0: \", class_0_prc)\n",
    "print(\"1: \", class_1_prc)"
   ]
  },
  {
   "cell_type": "code",
   "execution_count": 105,
   "metadata": {},
   "outputs": [
    {
     "data": {
      "text/plain": [
       "Counter({dtype('float64'): 119})"
      ]
     },
     "execution_count": 105,
     "metadata": {},
     "output_type": "execute_result"
    }
   ],
   "source": [
    "collections.Counter(X.dtypes)\n",
    "# wszystkie atrybuty liczbowe"
   ]
  },
  {
   "cell_type": "code",
   "execution_count": 106,
   "metadata": {},
   "outputs": [],
   "source": [
    "# mean = X.mean()\n",
    "# std = X.std()\n",
    "# min_ = X.min()\n",
    "# max_ = X.max()\n",
    "\n",
    "mean_df = pd.DataFrame(X.mean())\n",
    "std_df = pd.DataFrame(X.std())\n",
    "min_df = pd.DataFrame(X.min())\n",
    "max_df = pd.DataFrame(X.max())"
   ]
  },
  {
   "cell_type": "code",
   "execution_count": 107,
   "metadata": {},
   "outputs": [],
   "source": [
    "mean_std_df = mean_df.merge(std_df, left_index=True, right_index=True)\n",
    "mean_std_min_df = mean_std_df.merge(min_df, left_index=True, right_index=True)\n",
    "mean_std_min_max_df = mean_std_min_df.merge(max_df, left_index=True, right_index=True)"
   ]
  },
  {
   "cell_type": "code",
   "execution_count": 108,
   "metadata": {},
   "outputs": [
    {
     "data": {
      "text/html": [
       "<div>\n",
       "<style scoped>\n",
       "    .dataframe tbody tr th:only-of-type {\n",
       "        vertical-align: middle;\n",
       "    }\n",
       "\n",
       "    .dataframe tbody tr th {\n",
       "        vertical-align: top;\n",
       "    }\n",
       "\n",
       "    .dataframe thead th {\n",
       "        text-align: right;\n",
       "    }\n",
       "</style>\n",
       "<table border=\"1\" class=\"dataframe\">\n",
       "  <thead>\n",
       "    <tr style=\"text-align: right;\">\n",
       "      <th></th>\n",
       "      <th>mean</th>\n",
       "      <th>std</th>\n",
       "      <th>min</th>\n",
       "      <th>max</th>\n",
       "    </tr>\n",
       "  </thead>\n",
       "  <tbody>\n",
       "    <tr>\n",
       "      <th>dissim</th>\n",
       "      <td>0.004740</td>\n",
       "      <td>0.001257</td>\n",
       "      <td>0.001272</td>\n",
       "      <td>0.015529</td>\n",
       "    </tr>\n",
       "    <tr>\n",
       "      <th>el0</th>\n",
       "      <td>0.618960</td>\n",
       "      <td>0.179363</td>\n",
       "      <td>0.016103</td>\n",
       "      <td>0.963830</td>\n",
       "    </tr>\n",
       "    <tr>\n",
       "      <th>el1</th>\n",
       "      <td>0.231892</td>\n",
       "      <td>0.161531</td>\n",
       "      <td>0.001310</td>\n",
       "      <td>0.961220</td>\n",
       "    </tr>\n",
       "    <tr>\n",
       "      <th>el2</th>\n",
       "      <td>0.103617</td>\n",
       "      <td>0.135753</td>\n",
       "      <td>0.000346</td>\n",
       "      <td>0.966240</td>\n",
       "    </tr>\n",
       "    <tr>\n",
       "      <th>el3</th>\n",
       "      <td>0.067084</td>\n",
       "      <td>0.086823</td>\n",
       "      <td>0.000185</td>\n",
       "      <td>0.920950</td>\n",
       "    </tr>\n",
       "    <tr>\n",
       "      <th>...</th>\n",
       "      <td>...</td>\n",
       "      <td>...</td>\n",
       "      <td>...</td>\n",
       "      <td>...</td>\n",
       "    </tr>\n",
       "    <tr>\n",
       "      <th>stat72</th>\n",
       "      <td>16.759097</td>\n",
       "      <td>7.327707</td>\n",
       "      <td>-1.619100</td>\n",
       "      <td>27.032000</td>\n",
       "    </tr>\n",
       "    <tr>\n",
       "      <th>stat73</th>\n",
       "      <td>15.879577</td>\n",
       "      <td>7.959157</td>\n",
       "      <td>-1.499400</td>\n",
       "      <td>27.032000</td>\n",
       "    </tr>\n",
       "    <tr>\n",
       "      <th>stat74</th>\n",
       "      <td>17.036289</td>\n",
       "      <td>7.197951</td>\n",
       "      <td>-1.619100</td>\n",
       "      <td>27.032000</td>\n",
       "    </tr>\n",
       "    <tr>\n",
       "      <th>stat75</th>\n",
       "      <td>29.675829</td>\n",
       "      <td>16.772171</td>\n",
       "      <td>-1.000300</td>\n",
       "      <td>90.528000</td>\n",
       "    </tr>\n",
       "    <tr>\n",
       "      <th>stat76</th>\n",
       "      <td>0.492640</td>\n",
       "      <td>0.344966</td>\n",
       "      <td>0.057908</td>\n",
       "      <td>2.027700</td>\n",
       "    </tr>\n",
       "  </tbody>\n",
       "</table>\n",
       "<p>119 rows × 4 columns</p>\n",
       "</div>"
      ],
      "text/plain": [
       "             mean        std       min        max\n",
       "dissim   0.004740   0.001257  0.001272   0.015529\n",
       "el0      0.618960   0.179363  0.016103   0.963830\n",
       "el1      0.231892   0.161531  0.001310   0.961220\n",
       "el2      0.103617   0.135753  0.000346   0.966240\n",
       "el3      0.067084   0.086823  0.000185   0.920950\n",
       "...           ...        ...       ...        ...\n",
       "stat72  16.759097   7.327707 -1.619100  27.032000\n",
       "stat73  15.879577   7.959157 -1.499400  27.032000\n",
       "stat74  17.036289   7.197951 -1.619100  27.032000\n",
       "stat75  29.675829  16.772171 -1.000300  90.528000\n",
       "stat76   0.492640   0.344966  0.057908   2.027700\n",
       "\n",
       "[119 rows x 4 columns]"
      ]
     },
     "execution_count": 108,
     "metadata": {},
     "output_type": "execute_result"
    }
   ],
   "source": [
    "mean_std_min_max_df.columns = ['mean', \"std\", 'min', 'max']\n",
    "mean_std_min_max_df"
   ]
  },
  {
   "cell_type": "code",
   "execution_count": 111,
   "metadata": {},
   "outputs": [
    {
     "name": "stdout",
     "output_type": "stream",
     "text": [
      "[[11103     0]\n",
      " [ 3897     0]]\n",
      "              precision    recall  f1-score   support\n",
      "\n",
      "           0       0.74      1.00      0.85     11103\n",
      "           1       0.00      0.00      0.00      3897\n",
      "\n",
      "    accuracy                           0.74     15000\n",
      "   macro avg       0.37      0.50      0.43     15000\n",
      "weighted avg       0.55      0.74      0.63     15000\n",
      "\n"
     ]
    }
   ],
   "source": [
    "# Klasa większościowa to 0 ~74%. To byłaby trafność klasyfikatora Zero Rule.\n",
    "y_pred = np.zeros(data.shape[0])\n",
    "print(confusion_matrix(y, y_pred))\n",
    "print(classification_report(y, y_pred))"
   ]
  },
  {
   "cell_type": "code",
   "execution_count": 112,
   "metadata": {},
   "outputs": [
    {
     "data": {
      "text/plain": [
       "0.0"
      ]
     },
     "execution_count": 112,
     "metadata": {},
     "output_type": "execute_result"
    }
   ],
   "source": [
    "sensitivity = 0/(0+3897)\n",
    "specificity = 11103/(11103+0)\n",
    "G_mean = pow(sensitivity*specificity,0.5)\n",
    "G_mean # 0"
   ]
  },
  {
   "cell_type": "code",
   "execution_count": 149,
   "metadata": {},
   "outputs": [
    {
     "data": {
      "text/plain": [
       "<matplotlib.collections.PathCollection at 0x1820de82208>"
      ]
     },
     "execution_count": 149,
     "metadata": {},
     "output_type": "execute_result"
    },
    {
     "data": {
      "image/png": "[encoded data removed]",
      "text/plain": [
       "<Figure size 432x288 with 1 Axes>"
      ]
     },
     "metadata": {
      "needs_background": "light"
     },
     "output_type": "display_data"
    }
   ],
   "source": [
    "pca = PCA(n_components=2)\n",
    "X_pca = pca.fit_transform(X)\n",
    "fig = plt.figure()\n",
    "plt.scatter(X_pca[y==0][:,0], X_pca[y==0][:,1], color='red')\n",
    "plt.scatter(X_pca[y==1][:,0], X_pca[y==1][:,1], color='blue')"
   ]
  },
  {
   "cell_type": "code",
   "execution_count": 234,
   "metadata": {},
   "outputs": [
    {
     "data": {
      "image/png": "[encoded data removed]",
      "text/plain": [
       "<Figure size 432x288 with 1 Axes>"
      ]
     },
     "metadata": {
      "needs_background": "light"
     },
     "output_type": "display_data"
    }
   ],
   "source": [
    "pca = PCA(n_components=3)\n",
    "X_pca = pca.fit_transform(X)\n",
    "fig = plt.figure()\n",
    "ax = plt.axes(projection='3d')\n",
    "\n",
    "r, g, b = np.random.uniform(0, 1, 3)\n",
    "ax.scatter3D(X_pca[y==0][:,0], X_pca[y==0][:,1], X_pca[y==0][:,2], color='red', edgecolor='black', hatch='|')\n",
    "ax.scatter3D(X_pca[y==1][:,0], X_pca[y==1][:,1], X_pca[y==1][:,2], color='blue', )\n",
    "ax.view_init(20, 65)\n",
    "plt.savefig(\"./rysunki/t.svg\")\n",
    "# ax.set_top_view()"
   ]
  },
  {
   "cell_type": "code",
   "execution_count": 138,
   "metadata": {},
   "outputs": [
    {
     "data": {
      "text/plain": [
       "array([ -1.53343505,   0.90239298,  -2.88294148, ..., -13.84985106,\n",
       "       -13.63402279,  -8.46392991])"
      ]
     },
     "execution_count": 138,
     "metadata": {},
     "output_type": "execute_result"
    }
   ],
   "source": [
    "X_pca[:,0]"
   ]
  },
  {
   "cell_type": "code",
   "execution_count": 139,
   "metadata": {},
   "outputs": [
    {
     "data": {
      "text/plain": [
       "array([[ -1.53343505,  -5.4622978 ],\n",
       "       [  0.90239298,  -6.24184962],\n",
       "       [ -2.88294148,  -6.59080654],\n",
       "       ...,\n",
       "       [-13.84985106,   9.18678016],\n",
       "       [-13.63402279,  13.12999264],\n",
       "       [ -8.46392991,  14.66935166]])"
      ]
     },
     "execution_count": 139,
     "metadata": {},
     "output_type": "execute_result"
    }
   ],
   "source": []
  },
  {
   "cell_type": "code",
   "execution_count": 148,
   "metadata": {},
   "outputs": [
    {
     "data": {
      "text/plain": [
       "array([[ -1.53343505,  -5.4622978 ],\n",
       "       [  0.90239298,  -6.24184962],\n",
       "       [ -2.88294148,  -6.59080654],\n",
       "       ...,\n",
       "       [-13.84985106,   9.18678016],\n",
       "       [-13.63402279,  13.12999264],\n",
       "       [ -8.46392991,  14.66935166]])"
      ]
     },
     "execution_count": 148,
     "metadata": {},
     "output_type": "execute_result"
    }
   ],
   "source": [
    "X_pca[y==0]"
   ]
  },
  {
   "cell_type": "code",
   "execution_count": 144,
   "metadata": {},
   "outputs": [
    {
     "data": {
      "text/html": [
       "<div>\n",
       "<style scoped>\n",
       "    .dataframe tbody tr th:only-of-type {\n",
       "        vertical-align: middle;\n",
       "    }\n",
       "\n",
       "    .dataframe tbody tr th {\n",
       "        vertical-align: top;\n",
       "    }\n",
       "\n",
       "    .dataframe thead th {\n",
       "        text-align: right;\n",
       "    }\n",
       "</style>\n",
       "<table border=\"1\" class=\"dataframe\">\n",
       "  <thead>\n",
       "    <tr style=\"text-align: right;\">\n",
       "      <th></th>\n",
       "      <th>dissim</th>\n",
       "      <th>el0</th>\n",
       "      <th>el1</th>\n",
       "      <th>el2</th>\n",
       "      <th>el3</th>\n",
       "      <th>el4</th>\n",
       "      <th>el5</th>\n",
       "      <th>el6</th>\n",
       "      <th>el7</th>\n",
       "      <th>el8</th>\n",
       "      <th>...</th>\n",
       "      <th>stat67</th>\n",
       "      <th>stat68</th>\n",
       "      <th>stat69</th>\n",
       "      <th>stat70</th>\n",
       "      <th>stat71</th>\n",
       "      <th>stat72</th>\n",
       "      <th>stat73</th>\n",
       "      <th>stat74</th>\n",
       "      <th>stat75</th>\n",
       "      <th>stat76</th>\n",
       "    </tr>\n",
       "  </thead>\n",
       "  <tbody>\n",
       "    <tr>\n",
       "      <th>0</th>\n",
       "      <td>0.005436</td>\n",
       "      <td>0.54599</td>\n",
       "      <td>0.101960</td>\n",
       "      <td>0.077937</td>\n",
       "      <td>0.062342</td>\n",
       "      <td>0.028721</td>\n",
       "      <td>0.036235</td>\n",
       "      <td>0.030760</td>\n",
       "      <td>0.018463</td>\n",
       "      <td>0.023462</td>\n",
       "      <td>...</td>\n",
       "      <td>0.70463</td>\n",
       "      <td>4.3725</td>\n",
       "      <td>4.4987</td>\n",
       "      <td>3.7043</td>\n",
       "      <td>4.8453</td>\n",
       "      <td>19.910</td>\n",
       "      <td>20.6100</td>\n",
       "      <td>15.43300</td>\n",
       "      <td>26.439</td>\n",
       "      <td>0.69828</td>\n",
       "    </tr>\n",
       "    <tr>\n",
       "      <th>1</th>\n",
       "      <td>0.005618</td>\n",
       "      <td>0.54673</td>\n",
       "      <td>0.103690</td>\n",
       "      <td>0.077668</td>\n",
       "      <td>0.063204</td>\n",
       "      <td>0.028799</td>\n",
       "      <td>0.036090</td>\n",
       "      <td>0.029906</td>\n",
       "      <td>0.018093</td>\n",
       "      <td>0.023926</td>\n",
       "      <td>...</td>\n",
       "      <td>0.67763</td>\n",
       "      <td>4.3298</td>\n",
       "      <td>4.8693</td>\n",
       "      <td>3.7007</td>\n",
       "      <td>5.0550</td>\n",
       "      <td>19.626</td>\n",
       "      <td>23.3990</td>\n",
       "      <td>15.40400</td>\n",
       "      <td>28.490</td>\n",
       "      <td>0.66388</td>\n",
       "    </tr>\n",
       "    <tr>\n",
       "      <th>2</th>\n",
       "      <td>0.005866</td>\n",
       "      <td>0.51283</td>\n",
       "      <td>0.089217</td>\n",
       "      <td>0.080615</td>\n",
       "      <td>0.038912</td>\n",
       "      <td>0.043073</td>\n",
       "      <td>0.037903</td>\n",
       "      <td>0.028728</td>\n",
       "      <td>0.022403</td>\n",
       "      <td>0.038600</td>\n",
       "      <td>...</td>\n",
       "      <td>0.70166</td>\n",
       "      <td>4.3945</td>\n",
       "      <td>4.5699</td>\n",
       "      <td>3.7130</td>\n",
       "      <td>4.7177</td>\n",
       "      <td>20.077</td>\n",
       "      <td>21.2110</td>\n",
       "      <td>15.45200</td>\n",
       "      <td>24.764</td>\n",
       "      <td>0.66388</td>\n",
       "    </tr>\n",
       "    <tr>\n",
       "      <th>3</th>\n",
       "      <td>0.005339</td>\n",
       "      <td>0.53251</td>\n",
       "      <td>0.070889</td>\n",
       "      <td>0.072925</td>\n",
       "      <td>0.088693</td>\n",
       "      <td>0.052150</td>\n",
       "      <td>0.033372</td>\n",
       "      <td>0.037046</td>\n",
       "      <td>0.023161</td>\n",
       "      <td>0.033486</td>\n",
       "      <td>...</td>\n",
       "      <td>-0.63948</td>\n",
       "      <td>4.3655</td>\n",
       "      <td>3.3484</td>\n",
       "      <td>3.3214</td>\n",
       "      <td>4.0694</td>\n",
       "      <td>19.908</td>\n",
       "      <td>12.6600</td>\n",
       "      <td>12.78900</td>\n",
       "      <td>19.516</td>\n",
       "      <td>0.93006</td>\n",
       "    </tr>\n",
       "    <tr>\n",
       "      <th>4</th>\n",
       "      <td>0.004194</td>\n",
       "      <td>0.65499</td>\n",
       "      <td>0.069736</td>\n",
       "      <td>0.055655</td>\n",
       "      <td>0.031205</td>\n",
       "      <td>0.023671</td>\n",
       "      <td>0.026195</td>\n",
       "      <td>0.027883</td>\n",
       "      <td>0.024159</td>\n",
       "      <td>0.013439</td>\n",
       "      <td>...</td>\n",
       "      <td>0.38449</td>\n",
       "      <td>4.0907</td>\n",
       "      <td>3.0932</td>\n",
       "      <td>4.1193</td>\n",
       "      <td>4.0244</td>\n",
       "      <td>18.012</td>\n",
       "      <td>10.4490</td>\n",
       "      <td>18.12100</td>\n",
       "      <td>18.356</td>\n",
       "      <td>0.95697</td>\n",
       "    </tr>\n",
       "    <tr>\n",
       "      <th>...</th>\n",
       "      <td>...</td>\n",
       "      <td>...</td>\n",
       "      <td>...</td>\n",
       "      <td>...</td>\n",
       "      <td>...</td>\n",
       "      <td>...</td>\n",
       "      <td>...</td>\n",
       "      <td>...</td>\n",
       "      <td>...</td>\n",
       "      <td>...</td>\n",
       "      <td>...</td>\n",
       "      <td>...</td>\n",
       "      <td>...</td>\n",
       "      <td>...</td>\n",
       "      <td>...</td>\n",
       "      <td>...</td>\n",
       "      <td>...</td>\n",
       "      <td>...</td>\n",
       "      <td>...</td>\n",
       "      <td>...</td>\n",
       "      <td>...</td>\n",
       "    </tr>\n",
       "    <tr>\n",
       "      <th>14995</th>\n",
       "      <td>0.006591</td>\n",
       "      <td>0.22118</td>\n",
       "      <td>0.235770</td>\n",
       "      <td>0.621390</td>\n",
       "      <td>0.181810</td>\n",
       "      <td>0.232280</td>\n",
       "      <td>0.039565</td>\n",
       "      <td>0.054534</td>\n",
       "      <td>0.037102</td>\n",
       "      <td>0.054343</td>\n",
       "      <td>...</td>\n",
       "      <td>0.66428</td>\n",
       "      <td>3.6105</td>\n",
       "      <td>3.3994</td>\n",
       "      <td>1.6784</td>\n",
       "      <td>4.7603</td>\n",
       "      <td>13.555</td>\n",
       "      <td>13.1800</td>\n",
       "      <td>2.39650</td>\n",
       "      <td>28.040</td>\n",
       "      <td>0.61621</td>\n",
       "    </tr>\n",
       "    <tr>\n",
       "      <th>14996</th>\n",
       "      <td>0.005840</td>\n",
       "      <td>0.20284</td>\n",
       "      <td>0.251150</td>\n",
       "      <td>0.705610</td>\n",
       "      <td>0.161440</td>\n",
       "      <td>0.200330</td>\n",
       "      <td>0.025401</td>\n",
       "      <td>0.050246</td>\n",
       "      <td>0.031360</td>\n",
       "      <td>0.031153</td>\n",
       "      <td>...</td>\n",
       "      <td>0.69692</td>\n",
       "      <td>3.4456</td>\n",
       "      <td>1.6533</td>\n",
       "      <td>1.6198</td>\n",
       "      <td>4.6621</td>\n",
       "      <td>12.412</td>\n",
       "      <td>1.6727</td>\n",
       "      <td>1.87390</td>\n",
       "      <td>28.343</td>\n",
       "      <td>0.73238</td>\n",
       "    </tr>\n",
       "    <tr>\n",
       "      <th>14997</th>\n",
       "      <td>0.006537</td>\n",
       "      <td>0.23195</td>\n",
       "      <td>0.244620</td>\n",
       "      <td>0.646470</td>\n",
       "      <td>0.189250</td>\n",
       "      <td>0.234330</td>\n",
       "      <td>0.040719</td>\n",
       "      <td>0.055341</td>\n",
       "      <td>0.037732</td>\n",
       "      <td>0.030766</td>\n",
       "      <td>...</td>\n",
       "      <td>0.40420</td>\n",
       "      <td>3.6309</td>\n",
       "      <td>2.9511</td>\n",
       "      <td>1.4356</td>\n",
       "      <td>4.2954</td>\n",
       "      <td>13.663</td>\n",
       "      <td>8.2284</td>\n",
       "      <td>1.34260</td>\n",
       "      <td>22.181</td>\n",
       "      <td>0.75303</td>\n",
       "    </tr>\n",
       "    <tr>\n",
       "      <th>14998</th>\n",
       "      <td>0.006248</td>\n",
       "      <td>0.23324</td>\n",
       "      <td>0.258740</td>\n",
       "      <td>0.683140</td>\n",
       "      <td>0.199990</td>\n",
       "      <td>0.244300</td>\n",
       "      <td>0.031039</td>\n",
       "      <td>0.056662</td>\n",
       "      <td>0.038761</td>\n",
       "      <td>0.028040</td>\n",
       "      <td>...</td>\n",
       "      <td>0.69834</td>\n",
       "      <td>3.5819</td>\n",
       "      <td>2.0903</td>\n",
       "      <td>1.3752</td>\n",
       "      <td>4.2785</td>\n",
       "      <td>13.323</td>\n",
       "      <td>3.7708</td>\n",
       "      <td>1.04780</td>\n",
       "      <td>23.802</td>\n",
       "      <td>0.89240</td>\n",
       "    </tr>\n",
       "    <tr>\n",
       "      <th>14999</th>\n",
       "      <td>0.004934</td>\n",
       "      <td>0.29800</td>\n",
       "      <td>0.254770</td>\n",
       "      <td>0.775820</td>\n",
       "      <td>0.177840</td>\n",
       "      <td>0.217400</td>\n",
       "      <td>0.024943</td>\n",
       "      <td>0.031681</td>\n",
       "      <td>0.021979</td>\n",
       "      <td>0.027070</td>\n",
       "      <td>...</td>\n",
       "      <td>-0.69887</td>\n",
       "      <td>3.4335</td>\n",
       "      <td>2.2590</td>\n",
       "      <td>1.2741</td>\n",
       "      <td>4.7520</td>\n",
       "      <td>12.478</td>\n",
       "      <td>5.8713</td>\n",
       "      <td>0.70527</td>\n",
       "      <td>29.313</td>\n",
       "      <td>0.80636</td>\n",
       "    </tr>\n",
       "  </tbody>\n",
       "</table>\n",
       "<p>15000 rows × 119 columns</p>\n",
       "</div>"
      ],
      "text/plain": [
       "         dissim      el0       el1       el2       el3       el4       el5  \\\n",
       "0      0.005436  0.54599  0.101960  0.077937  0.062342  0.028721  0.036235   \n",
       "1      0.005618  0.54673  0.103690  0.077668  0.063204  0.028799  0.036090   \n",
       "2      0.005866  0.51283  0.089217  0.080615  0.038912  0.043073  0.037903   \n",
       "3      0.005339  0.53251  0.070889  0.072925  0.088693  0.052150  0.033372   \n",
       "4      0.004194  0.65499  0.069736  0.055655  0.031205  0.023671  0.026195   \n",
       "...         ...      ...       ...       ...       ...       ...       ...   \n",
       "14995  0.006591  0.22118  0.235770  0.621390  0.181810  0.232280  0.039565   \n",
       "14996  0.005840  0.20284  0.251150  0.705610  0.161440  0.200330  0.025401   \n",
       "14997  0.006537  0.23195  0.244620  0.646470  0.189250  0.234330  0.040719   \n",
       "14998  0.006248  0.23324  0.258740  0.683140  0.199990  0.244300  0.031039   \n",
       "14999  0.004934  0.29800  0.254770  0.775820  0.177840  0.217400  0.024943   \n",
       "\n",
       "            el6       el7       el8  ...   stat67  stat68  stat69  stat70  \\\n",
       "0      0.030760  0.018463  0.023462  ...  0.70463  4.3725  4.4987  3.7043   \n",
       "1      0.029906  0.018093  0.023926  ...  0.67763  4.3298  4.8693  3.7007   \n",
       "2      0.028728  0.022403  0.038600  ...  0.70166  4.3945  4.5699  3.7130   \n",
       "3      0.037046  0.023161  0.033486  ... -0.63948  4.3655  3.3484  3.3214   \n",
       "4      0.027883  0.024159  0.013439  ...  0.38449  4.0907  3.0932  4.1193   \n",
       "...         ...       ...       ...  ...      ...     ...     ...     ...   \n",
       "14995  0.054534  0.037102  0.054343  ...  0.66428  3.6105  3.3994  1.6784   \n",
       "14996  0.050246  0.031360  0.031153  ...  0.69692  3.4456  1.6533  1.6198   \n",
       "14997  0.055341  0.037732  0.030766  ...  0.40420  3.6309  2.9511  1.4356   \n",
       "14998  0.056662  0.038761  0.028040  ...  0.69834  3.5819  2.0903  1.3752   \n",
       "14999  0.031681  0.021979  0.027070  ... -0.69887  3.4335  2.2590  1.2741   \n",
       "\n",
       "       stat71  stat72   stat73    stat74  stat75   stat76  \n",
       "0      4.8453  19.910  20.6100  15.43300  26.439  0.69828  \n",
       "1      5.0550  19.626  23.3990  15.40400  28.490  0.66388  \n",
       "2      4.7177  20.077  21.2110  15.45200  24.764  0.66388  \n",
       "3      4.0694  19.908  12.6600  12.78900  19.516  0.93006  \n",
       "4      4.0244  18.012  10.4490  18.12100  18.356  0.95697  \n",
       "...       ...     ...      ...       ...     ...      ...  \n",
       "14995  4.7603  13.555  13.1800   2.39650  28.040  0.61621  \n",
       "14996  4.6621  12.412   1.6727   1.87390  28.343  0.73238  \n",
       "14997  4.2954  13.663   8.2284   1.34260  22.181  0.75303  \n",
       "14998  4.2785  13.323   3.7708   1.04780  23.802  0.89240  \n",
       "14999  4.7520  12.478   5.8713   0.70527  29.313  0.80636  \n",
       "\n",
       "[15000 rows x 119 columns]"
      ]
     },
     "execution_count": 144,
     "metadata": {},
     "output_type": "execute_result"
    }
   ],
   "source": [
    "X"
   ]
  },
  {
   "cell_type": "code",
   "execution_count": null,
   "metadata": {},
   "outputs": [],
   "source": []
  }
 ],
 "metadata": {
  "kernelspec": {
   "display_name": "Python 3",
   "language": "python",
   "name": "python3"
  },
  "language_info": {
   "codemirror_mode": {
    "name": "ipython",
    "version": 3
   },
   "file_extension": ".py",
   "mimetype": "text/x-python",
   "name": "python",
   "nbconvert_exporter": "python",
   "pygments_lexer": "ipython3",
   "version": "3.7.6"
  }
 },
 "nbformat": 4,
 "nbformat_minor": 4
}
