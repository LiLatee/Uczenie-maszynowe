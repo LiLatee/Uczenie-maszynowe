{
 "cells": [
  {
   "cell_type": "code",
   "execution_count": 1,
   "metadata": {},
   "outputs": [],
   "source": [
    "from scipy.stats import entropy\n",
    "import numpy as np\n",
    "\n",
    "def entropia(p):\n",
    "  return entropy(p, base=2)\n",
    "\n",
    "def entropia_warunkowa(*ps):\n",
    "  s = np.sum(np.sum(ps))\n",
    "  result = 0\n",
    "  for p in ps:\n",
    "    result += sum(p) / s * entropia(p)\n",
    "  return result\n",
    "\n",
    "def info_gain(*ps):\n",
    "  arr = np.array(ps)\n",
    "  left = arr.sum(axis=0)\n",
    "  return entropia(left) - entropia_warunkowa(*ps)\n",
    "\n",
    "def gain_ratio(*ps):\n",
    "  arr = np.array(ps)\n",
    "  left = arr.sum(axis=1)\n",
    "  ent = entropia(left)\n",
    "  gain = info_gain(*ps)\n",
    "  print(\"ent\", ent)\n",
    "  print(\"gain\", gain)\n",
    "  return gain / ent\n",
    "\n",
    "# print(entropia([3, 5]))\n",
    "# print(entropia_warunkowa([1,2], [2,3]))\n",
    "# print(info_gain([1,2], [2,3]))\n",
    "# print(gain_ratio([1,2], [2,3]))"
   ]
  },
  {
   "cell_type": "code",
   "execution_count": 2,
   "metadata": {},
   "outputs": [],
   "source": [
    "def cost_pruning(e, n, alfa, l):\n",
    "  return e / n + alfa * l\n",
    "\n",
    "# print(cost_pruning(1, 9, 5, 0.01))"
   ]
  },
  {
   "cell_type": "code",
   "execution_count": null,
   "metadata": {},
   "outputs": [],
   "source": []
  },
  {
   "cell_type": "markdown",
   "metadata": {},
   "source": [
    "# Przykłady"
   ]
  },
  {
   "cell_type": "code",
   "execution_count": 3,
   "metadata": {},
   "outputs": [
    {
     "name": "stdout",
     "output_type": "stream",
     "text": [
      "0.954434002924965\n"
     ]
    }
   ],
   "source": [
    "print(entropia([5,3]))"
   ]
  },
  {
   "cell_type": "code",
   "execution_count": 4,
   "metadata": {},
   "outputs": [
    {
     "name": "stdout",
     "output_type": "stream",
     "text": [
      "0.9512050593046015\n"
     ]
    }
   ],
   "source": [
    "print(entropia_warunkowa([1,2],[2,3]))"
   ]
  },
  {
   "cell_type": "code",
   "execution_count": 5,
   "metadata": {},
   "outputs": [
    {
     "name": "stdout",
     "output_type": "stream",
     "text": [
      "0.45443400292496505\n"
     ]
    }
   ],
   "source": [
    "print(info_gain([2,2], [1,0],[0,3]))"
   ]
  },
  {
   "cell_type": "code",
   "execution_count": 6,
   "metadata": {},
   "outputs": [
    {
     "name": "stdout",
     "output_type": "stream",
     "text": [
      "ent 0.954434002924965\n",
      "gain 0.0032289436203635224\n",
      "0.0033830978469627858\n"
     ]
    }
   ],
   "source": [
    "print(gain_ratio([1,2], [2,3]))"
   ]
  },
  {
   "cell_type": "markdown",
   "metadata": {},
   "source": [
    "# Tu można pisać"
   ]
  },
  {
   "cell_type": "code",
   "execution_count": 7,
   "metadata": {},
   "outputs": [
    {
     "data": {
      "text/plain": [
       "0.954434002924965"
      ]
     },
     "execution_count": 7,
     "metadata": {},
     "output_type": "execute_result"
    }
   ],
   "source": [
    "entropia([3,5])"
   ]
  },
  {
   "cell_type": "code",
   "execution_count": 8,
   "metadata": {},
   "outputs": [
    {
     "data": {
      "text/plain": [
       "0.9512050593046015"
      ]
     },
     "execution_count": 8,
     "metadata": {},
     "output_type": "execute_result"
    }
   ],
   "source": [
    "entropia_warunkowa([1,2],[2,3])"
   ]
  },
  {
   "cell_type": "code",
   "execution_count": 12,
   "metadata": {},
   "outputs": [
    {
     "data": {
      "text/plain": [
       "1.4056390622295662"
      ]
     },
     "execution_count": 12,
     "metadata": {},
     "output_type": "execute_result"
    }
   ],
   "source": [
    "info_gain([2,2],[1],[3])"
   ]
  },
  {
   "cell_type": "code",
   "execution_count": 6,
   "metadata": {},
   "outputs": [
    {
     "name": "stdout",
     "output_type": "stream",
     "text": [
      "Recall/sensitivity: [0.67 0.75 0.5 ]\n",
      "Precision: [0.8  0.38 0.71]\n"
     ]
    }
   ],
   "source": [
    "import numpy as np\n",
    "\n",
    "\n",
    "cm = np.array([[20,5,5],\n",
    "               [0,15,5],\n",
    "               [5,20,25]])\n",
    "recall = np.diag(cm) / np.sum(cm, axis = 1) #sensitivity\n",
    "print(\"Recall/sensitivity:\", np.around(recall, decimals=2))\n",
    "precision = np.diag(cm) / np.sum(cm, axis = 0)\n",
    "print(\"Precision:\", np.around(precision, decimals=2))"
   ]
  },
  {
   "cell_type": "code",
   "execution_count": null,
   "metadata": {},
   "outputs": [],
   "source": []
  },
  {
   "cell_type": "code",
   "execution_count": null,
   "metadata": {},
   "outputs": [],
   "source": []
  },
  {
   "cell_type": "code",
   "execution_count": 9,
   "metadata": {},
   "outputs": [
    {
     "name": "stdout",
     "output_type": "stream",
     "text": [
      "2\n",
      "[1. 1. 4.]\n",
      "[1. 1. 4.]\n"
     ]
    },
    {
     "data": {
      "text/plain": [
       "0.999983298578152"
      ]
     },
     "execution_count": 9,
     "metadata": {},
     "output_type": "execute_result"
    }
   ],
   "source": [
    "## Preceptron\n",
    "import numpy as np\n",
    "def predict(weights, x):\n",
    "  x_in = np.hstack([[1], x])\n",
    "  return np.dot(weights, x_in)\n",
    "\n",
    "def sigmoid(x):\n",
    "  return 1.0 / (1.0 + np.exp(-x))\n",
    "\n",
    "def backprop(weights, x, y, learning_rate = 0.5, use_delta=False, activate='linear'):\n",
    "  x_in = np.hstack([[1], x])\n",
    "  y_pred = predict(weights, x)\n",
    "  if activate == 'sigmoid':\n",
    "    y_pred = sigmoid(y_pred)\n",
    "\n",
    "  error = y - y_pred\n",
    "\n",
    "  if use_delta:\n",
    "    E2 = 0.5 * (error * error)\n",
    "\n",
    "    der = 1\n",
    "    if activate == 'sigmoid':\n",
    "      der = y_pred * (1 - y_pred)\n",
    "\n",
    "    new_weights = weights + learning_rate * E2 * der * x_in\n",
    "  else:\n",
    "    new_weights = weights + learning_rate * error * x_in\n",
    "\n",
    "  print(new_weights)\n",
    "  return new_weights\n",
    "\n",
    "\n",
    "x = [2,2]\n",
    "y = 4\n",
    "oldw = [0, -1, 2]\n",
    "print(predict(oldw, x))\n",
    "nw = backprop(oldw, x, y, use_delta=True, activate='linear')\n",
    "print(nw)\n",
    "sigmoid(predict(nw, x))"
   ]
  },
  {
   "cell_type": "code",
   "execution_count": 2,
   "metadata": {},
   "outputs": [
    {
     "data": {
      "text/plain": [
       "'aasfd'"
      ]
     },
     "execution_count": 2,
     "metadata": {},
     "output_type": "execute_result"
    }
   ],
   "source": [
    "chars = \"aasfdfsdgsgsfg\"[:5:]\n",
    "chars"
   ]
  },
  {
   "cell_type": "code",
   "execution_count": null,
   "metadata": {},
   "outputs": [],
   "source": []
  }
 ],
 "metadata": {
  "kernelspec": {
   "display_name": "Python 3",
   "language": "python",
   "name": "python3"
  },
  "language_info": {
   "codemirror_mode": {
    "name": "ipython",
    "version": 3
   },
   "file_extension": ".py",
   "mimetype": "text/x-python",
   "name": "python",
   "nbconvert_exporter": "python",
   "pygments_lexer": "ipython3",
   "version": "3.7.6"
  }
 },
 "nbformat": 4,
 "nbformat_minor": 4
}
